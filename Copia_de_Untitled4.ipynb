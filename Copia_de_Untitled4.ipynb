{
  "nbformat": 4,
  "nbformat_minor": 0,
  "metadata": {
    "colab": {
      "name": "Copia de Untitled4.ipynb",
      "provenance": []
    },
    "kernelspec": {
      "name": "python3",
      "display_name": "Python 3"
    }
  },
  "cells": [
    {
      "cell_type": "code",
      "metadata": {
        "id": "rn4xG-lZC0m8"
      },
      "source": [
        "import numpy as np\n",
        "from numpy import polyfit\n",
        "from scipy import stats\n",
        "import matplotlib as mpl\n",
        "import matplotlib.pyplot as plt"
      ],
      "execution_count": null,
      "outputs": []
    },
    {
      "cell_type": "code",
      "metadata": {
        "id": "Y9ju79pnDDFN"
      },
      "source": [
        "X=[0,3,5,8,10,12,15,17.5]\n",
        "C=[4,2.89,2.25,1.45,1.0,.65,0.25,0.02]\n",
        "u = polyfit(X,C, deg=4)"
      ],
      "execution_count": null,
      "outputs": []
    },
    {
      "cell_type": "code",
      "metadata": {
        "id": "bqEqLF2_DX-3",
        "outputId": "5ed94e38-9d87-4114-994a-1fb74f8019b0",
        "colab": {
          "base_uri": "https://localhost:8080/",
          "height": 51
        }
      },
      "source": [
        "u"
      ],
      "execution_count": null,
      "outputs": [
        {
          "output_type": "execute_result",
          "data": {
            "text/plain": [
              "array([-5.76442862e-06,  1.45748770e-04,  8.92758236e-03, -3.97340856e-01,\n",
              "        3.99955446e+00])"
            ]
          },
          "metadata": {
            "tags": []
          },
          "execution_count": 153
        }
      ]
    },
    {
      "cell_type": "code",
      "metadata": {
        "id": "gDusXdqbDjp8"
      },
      "source": [
        "def funcionPol(t, coeficientes):\n",
        "  return (t**4)*coeficientes[0]+(t**3)*coeficientes[1]+(t**2)*coeficientes[2]+(t**1)*coeficientes[3]+coeficientes[4]\n",
        "  #return (t**6)*coeficientes[0]+(t**5)*coeficientes[1]+(t**4)*coeficientes[2]+(t**3)*coeficientes[3]+(t**2)*coeficientes[4]+(t)*coeficientes[5]+coeficientes[6]"
      ],
      "execution_count": null,
      "outputs": []
    },
    {
      "cell_type": "code",
      "metadata": {
        "id": "VgYfGtKFEgd0"
      },
      "source": [
        "def funcionPolderivada(t, coeficientes):\n",
        "  return (t**3)*4*coeficientes[0]+(t**2)*3*coeficientes[1]+(t**1)*2*coeficientes[2]+coeficientes[3]\n",
        "  #return (t**5)*6*coeficientes[0]+(t**4)*5*coeficientes[1]+(t**3)*4*coeficientes[2]+(t**2)*3*coeficientes[3]+(t)*2*coeficientes[4]+coeficientes[5]"
      ],
      "execution_count": null,
      "outputs": []
    },
    {
      "cell_type": "code",
      "metadata": {
        "id": "4tG82laTFFKQ"
      },
      "source": [
        "xpoli = [funcionPol(tiempo, u) for tiempo in X]\n",
        "xderipoli = [funcionPolderivada(tiempo, u) for tiempo in X]"
      ],
      "execution_count": null,
      "outputs": []
    },
    {
      "cell_type": "code",
      "metadata": {
        "id": "kNedBdEaFbVv",
        "outputId": "52ea05ac-3696-49b4-efdd-d8354621610e",
        "colab": {
          "base_uri": "https://localhost:8080/",
          "height": 153
        }
      },
      "source": [
        "xpoli\n"
      ],
      "execution_count": null,
      "outputs": [
        {
          "output_type": "execute_result",
          "data": {
            "text/plain": [
              "[3.999554455106504,\n",
              " 2.891348425831851,\n",
              " 2.2506555615438137,\n",
              " 1.4432051474101733,\n",
              " 1.0070086133319065,\n",
              " 0.6493587238849186,\n",
              " 0.2482255440094816,\n",
              " 0.020643528881355344]"
            ]
          },
          "metadata": {
            "tags": []
          },
          "execution_count": 157
        }
      ]
    },
    {
      "cell_type": "code",
      "metadata": {
        "id": "heyiY6bVFc5P",
        "outputId": "757e9c05-b2f5-4cb7-81ac-ce969361bb8f",
        "colab": {
          "base_uri": "https://localhost:8080/",
          "height": 153
        }
      },
      "source": [
        "xderipoli"
      ],
      "execution_count": null,
      "outputs": [
        {
          "output_type": "execute_result",
          "data": {
            "text/plain": [
              "[-0.3973408562097865,\n",
              " -0.3404627035212324,\n",
              " -0.3000160891182775,\n",
              " -0.2383213243378598,\n",
              " -0.19812229238186221,\n",
              " -0.15995914142257275,\n",
              " -0.10895275187487291,\n",
              " -0.07454372954314187]"
            ]
          },
          "metadata": {
            "tags": []
          },
          "execution_count": 158
        }
      ]
    },
    {
      "cell_type": "code",
      "metadata": {
        "id": "zTw7XD4FFgrp"
      },
      "source": [
        "xderipolinegativa = [x*-1 for x in xderipoli]"
      ],
      "execution_count": null,
      "outputs": []
    },
    {
      "cell_type": "code",
      "metadata": {
        "id": "_gyTNZmBF7rb"
      },
      "source": [
        "logaritmoDeXDeriPoliNegativa = [np.log(x) for x in xderipolinegativa]"
      ],
      "execution_count": null,
      "outputs": []
    },
    {
      "cell_type": "code",
      "metadata": {
        "id": "nYAIa5lwGSGB"
      },
      "source": [
        "logaritmoxpoli = [np.log(x) for x in xpoli]"
      ],
      "execution_count": null,
      "outputs": []
    },
    {
      "cell_type": "code",
      "metadata": {
        "id": "7aUhOeHxHaY_"
      },
      "source": [
        "m, b, r_value, p_value, std_err = stats.linregress(logaritmoxpoli,logaritmoDeXDeriPoliNegativa)\n",
        "U = polyfit(logaritmoxpoli,logaritmoDeXDeriPoliNegativa, deg=1)"
      ],
      "execution_count": null,
      "outputs": []
    },
    {
      "cell_type": "code",
      "metadata": {
        "id": "hInia7efHkGC",
        "outputId": "3be0db34-1ec2-4215-af7f-249e571e4129",
        "colab": {
          "base_uri": "https://localhost:8080/",
          "height": 34
        }
      },
      "source": [
        "U\n",
        "m"
      ],
      "execution_count": null,
      "outputs": [
        {
          "output_type": "execute_result",
          "data": {
            "text/plain": [
              "0.3257664022358657"
            ]
          },
          "metadata": {
            "tags": []
          },
          "execution_count": 163
        }
      ]
    },
    {
      "cell_type": "code",
      "metadata": {
        "id": "Fw0PPg8mHlOG",
        "outputId": "d9c826eb-0ad6-4322-b883-7ae8a457d855",
        "colab": {
          "base_uri": "https://localhost:8080/",
          "height": 34
        }
      },
      "source": [
        "b"
      ],
      "execution_count": null,
      "outputs": [
        {
          "output_type": "execute_result",
          "data": {
            "text/plain": [
              "-1.5285264658541386"
            ]
          },
          "metadata": {
            "tags": []
          },
          "execution_count": 164
        }
      ]
    },
    {
      "cell_type": "code",
      "metadata": {
        "id": "xk5Qw6YGHlro",
        "outputId": "754791f3-52f1-417d-e3d4-b1ff9a008220",
        "colab": {
          "base_uri": "https://localhost:8080/",
          "height": 34
        }
      },
      "source": [
        "r_value**2"
      ],
      "execution_count": null,
      "outputs": [
        {
          "output_type": "execute_result",
          "data": {
            "text/plain": [
              "0.9283340231343815"
            ]
          },
          "metadata": {
            "tags": []
          },
          "execution_count": 165
        }
      ]
    },
    {
      "cell_type": "code",
      "metadata": {
        "id": "_rp4wwIQKJ3p",
        "outputId": "9d39935d-ae2a-48d3-93f6-98309ee5afd8",
        "colab": {
          "base_uri": "https://localhost:8080/",
          "height": 312
        }
      },
      "source": [
        "plt.plot(X,xpoli)\n",
        "plt.title(\"Polinomio vs t\")\n",
        "plt.xlabel(\"tiempo\")\n",
        "plt.ylabel(\"Concentración de A en mol/dm^3\")"
      ],
      "execution_count": null,
      "outputs": [
        {
          "output_type": "execute_result",
          "data": {
            "text/plain": [
              "Text(0, 0.5, 'Concentración de A en mol/dm^3')"
            ]
          },
          "metadata": {
            "tags": []
          },
          "execution_count": 166
        },
        {
          "output_type": "display_data",
          "data": {
            "image/png": "[encoded data removed]",
            "text/plain": [
              "<Figure size 432x288 with 1 Axes>"
            ]
          },
          "metadata": {
            "tags": [],
            "needs_background": "light"
          }
        }
      ]
    },
    {
      "cell_type": "code",
      "metadata": {
        "id": "V4PuRBToKTKr",
        "outputId": "1e8ceedb-ce60-40d2-a39a-7ddfaf38a2c0",
        "colab": {
          "base_uri": "https://localhost:8080/",
          "height": 34
        }
      },
      "source": [
        "k = np.exp(b)\n",
        "k"
      ],
      "execution_count": null,
      "outputs": [
        {
          "output_type": "execute_result",
          "data": {
            "text/plain": [
              "0.2168549752133628"
            ]
          },
          "metadata": {
            "tags": []
          },
          "execution_count": 167
        }
      ]
    },
    {
      "cell_type": "code",
      "metadata": {
        "id": "a8dErqltLHsM",
        "outputId": "ff37f566-1f90-4e5c-e200-6cf1eee1a4bd",
        "colab": {
          "base_uri": "https://localhost:8080/",
          "height": 312
        }
      },
      "source": [
        "check = [k*((res)**m) for res in C]\n",
        "plt.plot(X, check)\n",
        "plt.title(\"Velocidad de reacción vs tiempo\")\n",
        "plt.xlabel(\"tiempo\")\n",
        "plt.ylabel(\"dC/dt\")"
      ],
      "execution_count": null,
      "outputs": [
        {
          "output_type": "execute_result",
          "data": {
            "text/plain": [
              "Text(0, 0.5, 'dC/dt')"
            ]
          },
          "metadata": {
            "tags": []
          },
          "execution_count": 168
        },
        {
          "output_type": "display_data",
          "data": {
            "image/png": "[encoded data removed]",
            "text/plain": [
              "<Figure size 432x288 with 1 Axes>"
            ]
          },
          "metadata": {
            "tags": [],
            "needs_background": "light"
          }
        }
      ]
    },
    {
      "cell_type": "code",
      "metadata": {
        "id": "9_4wgLfoLgES",
        "outputId": "6a265dc6-22c7-4d6a-f14c-97e2ee88a881",
        "colab": {
          "base_uri": "https://localhost:8080/",
          "height": 312
        }
      },
      "source": [
        "plt.plot(X,C)\n",
        "plt.title(\"Concentración de A en el tiempo\")\n",
        "plt.xlabel(\"tiempo\")\n",
        "plt.ylabel(\"Concentración de A en mol/dm^3\")"
      ],
      "execution_count": null,
      "outputs": [
        {
          "output_type": "execute_result",
          "data": {
            "text/plain": [
              "Text(0, 0.5, 'Concentración de A en mol/dm^3')"
            ]
          },
          "metadata": {
            "tags": []
          },
          "execution_count": 169
        },
        {
          "output_type": "display_data",
          "data": {
            "image/png": "[encoded data removed]",
            "text/plain": [
              "<Figure size 432x288 with 1 Axes>"
            ]
          },
          "metadata": {
            "tags": [],
            "needs_background": "light"
          }
        }
      ]
    },
    {
      "cell_type": "code",
      "metadata": {
        "id": "kowp1PlucYQi",
        "outputId": "d4e88e63-1777-4d75-9fcf-36aa7f8ba3d2",
        "colab": {
          "base_uri": "https://localhost:8080/",
          "height": 312
        }
      },
      "source": [
        "plt.plot(logaritmoxpoli,logaritmoDeXDeriPoliNegativa)\n",
        "plt.title(\"ln(-dx/dt) vs ln(x)\")\n",
        "plt.ylabel(\"ln(-dx/dt)\")\n",
        "plt.xlabel(\"ln(x)\")"
      ],
      "execution_count": null,
      "outputs": [
        {
          "output_type": "execute_result",
          "data": {
            "text/plain": [
              "Text(0.5, 0, 'ln(x)')"
            ]
          },
          "metadata": {
            "tags": []
          },
          "execution_count": 170
        },
        {
          "output_type": "display_data",
          "data": {
            "image/png": "[encoded data removed]",
            "text/plain": [
              "<Figure size 432x288 with 1 Axes>"
            ]
          },
          "metadata": {
            "tags": [],
            "needs_background": "light"
          }
        }
      ]
    },
    {
      "cell_type": "code",
      "metadata": {
        "id": "_cC8EuaZclbN"
      },
      "source": [
        ""
      ],
      "execution_count": null,
      "outputs": []
    }
  ]
}