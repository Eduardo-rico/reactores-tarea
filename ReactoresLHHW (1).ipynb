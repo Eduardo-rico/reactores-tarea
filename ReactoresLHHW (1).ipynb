{
  "nbformat": 4,
  "nbformat_minor": 0,
  "metadata": {
    "colab": {
      "name": "ReactoresLHHW.ipynb",
      "provenance": [],
      "collapsed_sections": []
    },
    "kernelspec": {
      "name": "python3",
      "display_name": "Python 3"
    }
  },
  "cells": [
    {
      "cell_type": "code",
      "metadata": {
        "id": "C9wlzZ-cVsid"
      },
      "source": [
        ""
      ],
      "execution_count": null,
      "outputs": []
    },
    {
      "cell_type": "markdown",
      "metadata": {
        "id": "4zk938e0Vt2Z"
      },
      "source": [
        "#Tarea Fogler P 10-9c\n",
        "##Reacción para la producción del i-octano a partir de i-octeno e hidrógneo\n",
        "\n",
        "#### i-octeno + hidrógeno => i-octano\n",
        "$A+B\\rightarrow C$\n",
        "\n",
        "#### Partimos de proponer el mecanismo, basandonos en las ecuaciones de LHHW:\n",
        "\n",
        "\n",
        "1.   $A+S \\rightleftharpoons AS$\n",
        "2.   $B+S \\rightleftharpoons BS$\n",
        "3.   $AB+BS\\rightleftharpoons CS+S$\n",
        "4.   $CS\\rightleftharpoons C+S$\n",
        "\n",
        "####Donde se asume que las velocidades de adsorción y de reacción son nulas, es decir:\n",
        "\n",
        "*   $C_{A}C_{v}-\\frac{C_{AS}}{K_{A}}=0$\n",
        "*   $C_{B}C_{v}-\\frac{C_{BS}}{K_{B}}=0$\n",
        "*   $C_{AS}C_{BS}-\\frac{C_{CS}C_{v}}{K_{S}}=0$\n",
        "\n",
        "####Y que $-r_{A}$, por lo tanto es:\n",
        "$-r_{A}=\\frac{k_{S}}{C_{t}}\\left ( C_{AS}C_{BS} -\\frac{C_{CS}C_{v}}{K_{S}} \\right )$\n",
        "\n",
        "####para, que haciendo las sustituciones pertinentes en _$-r_{A}$_ dar la siguiente expresión:\n",
        "$-r_{A} = \\frac{k\\left ( P_{A}P_{B}- \\frac{P_{C}}{K_{eq}} \\right )}{\\left [ 1 +K_{A}P_{A} + K_{B}P_{B} + K_{C}P_{C}\\right ]^{2}}$\n",
        "\n",
        "\n"
      ]
    },
    {
      "cell_type": "code",
      "metadata": {
        "id": "9xDbm2KkV_fO"
      },
      "source": [
        "import pandas as pd"
      ],
      "execution_count": null,
      "outputs": []
    },
    {
      "cell_type": "markdown",
      "metadata": {
        "id": "bbP6Z3SGfMOb"
      },
      "source": [
        "####Creamos el dataset a partir de los datos que viene en el ejercicio"
      ]
    },
    {
      "cell_type": "code",
      "metadata": {
        "id": "NcZBx8EMWSUK"
      },
      "source": [
        "df = pd.DataFrame({'experimento': [1, 2, 3, 4, 5, 6, 7, 8, 9, 10, 11, 12], 'velocidad': [0.0362, 0.0239, 0.0390, 0.0351, 0.0114, 0.0534, 0.0280, 0.0033, 0.0380, 0.0090, 0.0127, 0.0566], 'hidrogeno': [1,1,3,1,1,10,1,1,2,1,0.6,5], 'octeno':[1,1,1,3,1,1,10,1,2,1,0.6,5],\"octano\": [0,1,1,1,3,0,0,10,2,4,0.6,5]})"
      ],
      "execution_count": null,
      "outputs": []
    },
    {
      "cell_type": "code",
      "metadata": {
        "id": "V46ORrEpXRfK",
        "outputId": "44c94009-b928-4759-fa92-535c61f39732",
        "colab": {
          "base_uri": "https://localhost:8080/"
        }
      },
      "source": [
        "print(df)"
      ],
      "execution_count": null,
      "outputs": [
        {
          "output_type": "stream",
          "text": [
            "    experimento  velocidad  hidrogeno  octeno  octano\n",
            "0             1     0.0362        1.0     1.0     0.0\n",
            "1             2     0.0239        1.0     1.0     1.0\n",
            "2             3     0.0390        3.0     1.0     1.0\n",
            "3             4     0.0351        1.0     3.0     1.0\n",
            "4             5     0.0114        1.0     1.0     3.0\n",
            "5             6     0.0534       10.0     1.0     0.0\n",
            "6             7     0.0280        1.0    10.0     0.0\n",
            "7             8     0.0033        1.0     1.0    10.0\n",
            "8             9     0.0380        2.0     2.0     2.0\n",
            "9            10     0.0090        1.0     1.0     4.0\n",
            "10           11     0.0127        0.6     0.6     0.6\n",
            "11           12     0.0566        5.0     5.0     5.0\n"
          ],
          "name": "stdout"
        }
      ]
    },
    {
      "cell_type": "markdown",
      "metadata": {
        "id": "y54y3B7DfW0t"
      },
      "source": [
        "####La ecuación que sale del posible mecanismo de reacción es: \n",
        "$-r_{A} = \\frac{k\\left ( P_{A}P_{B}- \\frac{P_{C}}{K_{eq}} \\right )}{\\left [ 1 +K_{A}P_{A} + K_{B}P_{B} + K_{C}P_{C}\\right ]^{2}}$\n",
        "\n",
        "####Tomando en cuenta que la reacción tiene una $K_{eq}$ muy grande y por lo tanto tiene a productos, su linearización es:\n",
        "$\\left ( \\frac{{P_{A}P_{B}}}{-r_{A}} \\right )^{1/2} = \\frac{1}{k^{1/2}} + \\frac{K_{A}P_{A}}{k^{1/2}} +\\frac{K_{B}P_{B}}{k^{1/2}}+ \\frac{K_{C}P_{C}}{k^{1/2}}$\n",
        "\n",
        "##### Donde A es el _i-octeno_, B es el _hidrogeno_ y C es el _i-octano_"
      ]
    },
    {
      "cell_type": "markdown",
      "metadata": {
        "id": "QR3g9ZQWhkS-"
      },
      "source": [
        "####Para linealizar obtenemos la columna llamada _**CaCb/-ra**_ "
      ]
    },
    {
      "cell_type": "code",
      "metadata": {
        "id": "7hUHlogEXSpG"
      },
      "source": [
        "df['CaCb/-ra'] = df.apply(lambda row: (row.octeno * row.hidrogeno / row.velocidad)**(0.5), axis=1)"
      ],
      "execution_count": null,
      "outputs": []
    },
    {
      "cell_type": "code",
      "metadata": {
        "id": "EjoJHZxnZ_PZ",
        "outputId": "ad557140-0893-455a-dd42-57d27f6172a0",
        "colab": {
          "base_uri": "https://localhost:8080/"
        }
      },
      "source": [
        "print(df)"
      ],
      "execution_count": null,
      "outputs": [
        {
          "output_type": "stream",
          "text": [
            "    experimento  velocidad  hidrogeno  octeno  octano   CaCb/-ra\n",
            "0             1     0.0362        1.0     1.0     0.0   5.255883\n",
            "1             2     0.0239        1.0     1.0     1.0   6.468462\n",
            "2             3     0.0390        3.0     1.0     1.0   8.770580\n",
            "3             4     0.0351        1.0     3.0     1.0   9.245003\n",
            "4             5     0.0114        1.0     1.0     3.0   9.365858\n",
            "5             6     0.0534       10.0     1.0     0.0  13.684514\n",
            "6             7     0.0280        1.0    10.0     0.0  18.898224\n",
            "7             8     0.0033        1.0     1.0    10.0  17.407766\n",
            "8             9     0.0380        2.0     2.0     2.0  10.259784\n",
            "9            10     0.0090        1.0     1.0     4.0  10.540926\n",
            "10           11     0.0127        0.6     0.6     0.6   5.324139\n",
            "11           12     0.0566        5.0     5.0     5.0  21.016568\n"
          ],
          "name": "stdout"
        }
      ]
    },
    {
      "cell_type": "markdown",
      "metadata": {
        "id": "BgBzcv-EiXv4"
      },
      "source": [
        "####Para hacer la regresión lineal necesitamos especificar nuestras variables independientes, es decir, la concentración de hidrógeno, la concentración del **octeno** y la concentración del **octano**"
      ]
    },
    {
      "cell_type": "code",
      "metadata": {
        "id": "hLleYyqPaBAL",
        "outputId": "ac8df103-ad7d-4c10-ca38-4f789d950a92",
        "colab": {
          "base_uri": "https://localhost:8080/"
        }
      },
      "source": [
        "X_multiple = df[['hidrogeno', 'octeno','octano']]\n",
        "print(X_multiple)"
      ],
      "execution_count": null,
      "outputs": [
        {
          "output_type": "stream",
          "text": [
            "    hidrogeno  octeno  octano\n",
            "0         1.0     1.0     0.0\n",
            "1         1.0     1.0     1.0\n",
            "2         3.0     1.0     1.0\n",
            "3         1.0     3.0     1.0\n",
            "4         1.0     1.0     3.0\n",
            "5        10.0     1.0     0.0\n",
            "6         1.0    10.0     0.0\n",
            "7         1.0     1.0    10.0\n",
            "8         2.0     2.0     2.0\n",
            "9         1.0     1.0     4.0\n",
            "10        0.6     0.6     0.6\n",
            "11        5.0     5.0     5.0\n"
          ],
          "name": "stdout"
        }
      ]
    },
    {
      "cell_type": "markdown",
      "metadata": {
        "id": "E6dgnI1biz-V"
      },
      "source": [
        "####Y definimos el valor de nuestra variable dependiente *y*, es decir, _**CaCb/-ra**_"
      ]
    },
    {
      "cell_type": "code",
      "metadata": {
        "id": "svhWIH-Ea2qS",
        "outputId": "3c788397-6a89-40ee-a2e8-8c67d2db8e27",
        "colab": {
          "base_uri": "https://localhost:8080/"
        }
      },
      "source": [
        "Y_multiple = df[['CaCb/-ra']]\n",
        "print(Y_multiple)"
      ],
      "execution_count": null,
      "outputs": [
        {
          "output_type": "stream",
          "text": [
            "     CaCb/-ra\n",
            "0    5.255883\n",
            "1    6.468462\n",
            "2    8.770580\n",
            "3    9.245003\n",
            "4    9.365858\n",
            "5   13.684514\n",
            "6   18.898224\n",
            "7   17.407766\n",
            "8   10.259784\n",
            "9   10.540926\n",
            "10   5.324139\n",
            "11  21.016568\n"
          ],
          "name": "stdout"
        }
      ]
    },
    {
      "cell_type": "markdown",
      "metadata": {
        "id": "VV9dhOL9jExq"
      },
      "source": [
        "####Importamos las librerías para hacer la regresión lineal múltiple"
      ]
    },
    {
      "cell_type": "code",
      "metadata": {
        "id": "iYPfWJUzcQGP"
      },
      "source": [
        "from sklearn.model_selection import train_test_split\n",
        "from sklearn import linear_model"
      ],
      "execution_count": null,
      "outputs": []
    },
    {
      "cell_type": "markdown",
      "metadata": {
        "id": "jeDa1kA6jJSZ"
      },
      "source": [
        "####Dividimos nuestros datos en datos de entrenamiento _**D_train**_ y datos de prueba _**D_test**_"
      ]
    },
    {
      "cell_type": "code",
      "metadata": {
        "id": "z1OqiayccgtO"
      },
      "source": [
        "X_train, X_test, y_train, y_test = train_test_split(X_multiple, Y_multiple, test_size=0.35)"
      ],
      "execution_count": null,
      "outputs": []
    },
    {
      "cell_type": "markdown",
      "metadata": {
        "id": "-RTFpF8YjZti"
      },
      "source": [
        "####Guardamos el modelo en una variable llamada  _regresion_lineal_multiple_"
      ]
    },
    {
      "cell_type": "code",
      "metadata": {
        "id": "eiOmXwDQco1O"
      },
      "source": [
        "regresion_lineal_multiple = linear_model.LinearRegression()"
      ],
      "execution_count": null,
      "outputs": []
    },
    {
      "cell_type": "markdown",
      "metadata": {
        "id": "MMsMNwPfjm8f"
      },
      "source": [
        "####Entrenamos el modelo, es decir, hacemos la regresión lineal\n"
      ]
    },
    {
      "cell_type": "code",
      "metadata": {
        "id": "i9M9HNKWcyUe",
        "outputId": "bff528c5-4171-4913-ee71-9d3ed7ec578d",
        "colab": {
          "base_uri": "https://localhost:8080/"
        }
      },
      "source": [
        "regresion_lineal_multiple.fit(X_train, y_train)"
      ],
      "execution_count": null,
      "outputs": [
        {
          "output_type": "execute_result",
          "data": {
            "text/plain": [
              "LinearRegression(copy_X=True, fit_intercept=True, n_jobs=None, normalize=False)"
            ]
          },
          "metadata": {
            "tags": []
          },
          "execution_count": 11
        }
      ]
    },
    {
      "cell_type": "markdown",
      "metadata": {
        "id": "lkbvFQH9jmSQ"
      },
      "source": [
        "####Ya hecha la regresión lineal obtenemos los coeficientes de la regresión donde el primer valor es para el hidrógeno (B), el segundo valor para el i-octeno (A) y el tercer valor para el i-octano (C)"
      ]
    },
    {
      "cell_type": "code",
      "metadata": {
        "id": "p96K7h0tdXYF",
        "outputId": "93ca8d77-a32b-4a97-ca09-9fe67b2fd15a",
        "colab": {
          "base_uri": "https://localhost:8080/"
        }
      },
      "source": [
        "regresion_lineal_multiple.coef_"
      ],
      "execution_count": null,
      "outputs": [
        {
          "output_type": "execute_result",
          "data": {
            "text/plain": [
              "array([[0.87900498, 1.47706006, 1.22619543]])"
            ]
          },
          "metadata": {
            "tags": []
          },
          "execution_count": 12
        }
      ]
    },
    {
      "cell_type": "markdown",
      "metadata": {
        "id": "p1XgQwBQj72a"
      },
      "source": [
        "####Obtenemos el valor en la intersección "
      ]
    },
    {
      "cell_type": "code",
      "metadata": {
        "id": "VX97KtHGdpn8",
        "outputId": "9edf5d5f-645f-4de4-ecd0-55d25fe3ffa7",
        "colab": {
          "base_uri": "https://localhost:8080/"
        }
      },
      "source": [
        "regresion_lineal_multiple.intercept_"
      ],
      "execution_count": null,
      "outputs": [
        {
          "output_type": "execute_result",
          "data": {
            "text/plain": [
              "array([3.19670613])"
            ]
          },
          "metadata": {
            "tags": []
          },
          "execution_count": 13
        }
      ]
    },
    {
      "cell_type": "markdown",
      "metadata": {
        "id": "6VAIsWQukN78"
      },
      "source": [
        "####Por último obtenemos el coeficiente de R² para ver qué tan buena es nuestra predicción"
      ]
    },
    {
      "cell_type": "code",
      "metadata": {
        "id": "VFYQt-zZd3tD",
        "outputId": "e714bca3-0d96-4b5c-998c-82d9c40ae098",
        "colab": {
          "base_uri": "https://localhost:8080/"
        }
      },
      "source": [
        "regresion_lineal_multiple.score(X_train,y_train)"
      ],
      "execution_count": null,
      "outputs": [
        {
          "output_type": "execute_result",
          "data": {
            "text/plain": [
              "0.9989140936166262"
            ]
          },
          "metadata": {
            "tags": []
          },
          "execution_count": 14
        }
      ]
    },
    {
      "cell_type": "markdown",
      "metadata": {
        "id": "x4BTMK_SkNVJ"
      },
      "source": [
        "####Por lo tanto la ecuación de la regresión múltiple nos queda de la siguiente manera: \n",
        "$y = 3.17617368 + 1.47772837 P_{A} + 0.9034848 P_{B} + 1.20982094 P_{C}$\n",
        "####Con un coeficiente de determinación r² = 0.9992204794696232"
      ]
    },
    {
      "cell_type": "markdown",
      "metadata": {
        "id": "H_qoImDQyYAL"
      },
      "source": [
        "\n",
        "\n",
        "*   $\\frac{1}{k^{1/2}} = 3.17617368$\n",
        "*   $\\frac{K_{A}}{k^{1/2}} = 1.47772837$\n",
        "*   $\\frac{K_{B}}{k^{1/2}} = 0.9034848$\n",
        "*   $\\frac{K_{C}}{k^{1/2}} = 1.20982094$\n",
        "\n",
        "##### Es decir:\n",
        "*   $k = 0.09912689776337931$\n",
        "*   $K_{A} = 0.46525427098180594$\n",
        "*   $K_{B} = 0.2844569885107794$\n",
        "*   $K_{C} = 0.38090515881360737$\n",
        "\n",
        "####Entonces la equación de velocidad de desaparición del i-octeno es:\n",
        "\n",
        "$-r_{A} = \\frac{0.09912689776337931\\left ( P_{A}P_{B} \\right )}{\\left [ 1 +(0.46525427098180594)P_{A} + (0.2844569885107794)P_{B} + (0.38090515881360737)P_{C}\\right ]^{2}}$"
      ]
    },
    {
      "cell_type": "code",
      "metadata": {
        "id": "ZQn4eG9hzmFQ",
        "outputId": "8c720ea4-dd57-4269-99f3-d05c7e6cbe1b",
        "colab": {
          "base_uri": "https://localhost:8080/"
        }
      },
      "source": [
        "k = (1/3.17617368)**2\n",
        "KA = 1.47772837*(1/3.17617368)\n",
        "KB = 0.9034848*(1/3.17617368)\n",
        "KC = 1.20982094*(1/3.17617368)\n",
        "print(k, KA, KB, KC)"
      ],
      "execution_count": null,
      "outputs": [
        {
          "output_type": "stream",
          "text": [
            "0.09912689776337931 0.46525427098180594 0.2844569885107794 0.38090515881360737\n"
          ],
          "name": "stdout"
        }
      ]
    },
    {
      "cell_type": "markdown",
      "metadata": {
        "id": "9xjvXJMwuq1E"
      },
      "source": [
        "##Conclusiones:\n",
        "###Se propuso un mecanismo que es consistente con los datos experimentales y\n",
        "###Se econtró la velocidad de reaccion evaluando todos los parámetros"
      ]
    },
    {
      "cell_type": "code",
      "metadata": {
        "id": "3ukbDAZ6ur_C"
      },
      "source": [
        ""
      ],
      "execution_count": null,
      "outputs": []
    }
  ]
}